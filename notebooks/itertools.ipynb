{
 "cells": [
  {
   "cell_type": "code",
   "execution_count": null,
   "metadata": {},
   "outputs": [],
   "source": [
    "import itertools"
   ]
  },
  {
   "cell_type": "code",
   "execution_count": 25,
   "metadata": {},
   "outputs": [
    {
     "name": "stdout",
     "output_type": "stream",
     "text": [
      "AA, AB, AC, AD, BA, BB, BC, BD, CA, CB, CC, CD, DA, DB, DC, DD, product : 16\n",
      "AB, AC, AD, BA, BC, BD, CA, CB, CD, DA, DB, DC, permutations : 12\n",
      "AB, AC, AD, BC, BD, CD, combinations : 6\n",
      "AA, AB, AC, AD, BB, BC, BD, CC, CD, DD, combinations_with_replacement : 10\n"
     ]
    }
   ],
   "source": [
    "# デカルト積\n",
    "count = 0\n",
    "for i, j in itertools.product('ABCD', repeat=2):\n",
    "    print(f'{i}{j}', end=', ')\n",
    "    count += 1\n",
    "print(f'product : {count}')\n",
    "\n",
    "# 重複なしのあらゆる並び\n",
    "count = 0\n",
    "for i, j in itertools.permutations('ABCD', 2):\n",
    "    print(f'{i}{j}', end=', ')\n",
    "    count += 1\n",
    "print(f'permutations : {count}')\n",
    "\n",
    "# ソートされた順で重複なし\n",
    "count = 0\n",
    "for i, j in itertools.combinations('ABCD', 2):\n",
    "    print(f'{i}{j}', end=', ')\n",
    "    count += 1\n",
    "print(f'combinations : {count}')\n",
    "\n",
    "# ソートされた順で重複あり\n",
    "count = 0\n",
    "for i, j in itertools.combinations_with_replacement('ABCD', 2):\n",
    "    print(f'{i}{j}', end=', ')\n",
    "    count += 1\n",
    "print(f'combinations_with_replacement : {count}')\n"
   ]
  },
  {
   "cell_type": "code",
   "execution_count": 20,
   "metadata": {},
   "outputs": [
    {
     "name": "stdout",
     "output_type": "stream",
     "text": [
      "AB, AC, AD, BA, BC, BD, CA, CB, CD, DA, DB, DC, 12\n"
     ]
    }
   ],
   "source": []
  },
  {
   "cell_type": "code",
   "execution_count": 22,
   "metadata": {},
   "outputs": [
    {
     "name": "stdout",
     "output_type": "stream",
     "text": [
      "AB, AC, AD, BC, BD, CD, 6\n"
     ]
    }
   ],
   "source": []
  },
  {
   "cell_type": "code",
   "execution_count": 23,
   "metadata": {},
   "outputs": [
    {
     "name": "stdout",
     "output_type": "stream",
     "text": [
      "AA, AB, AC, AD, BB, BC, BD, CC, CD, DD, 10\n"
     ]
    }
   ],
   "source": [
    "# ソートされた順で重複あり\n",
    "count = 0\n",
    "for i, j in itertools.combinations_with_replacement('ABCD', 2):\n",
    "    print(f'{i}{j}', end=', ')\n",
    "    count += 1\n",
    "print(count)"
   ]
  }
 ],
 "metadata": {
  "kernelspec": {
   "display_name": "Python 3",
   "language": "python",
   "name": "python3"
  },
  "language_info": {
   "codemirror_mode": {
    "name": "ipython",
    "version": 3
   },
   "file_extension": ".py",
   "mimetype": "text/x-python",
   "name": "python",
   "nbconvert_exporter": "python",
   "pygments_lexer": "ipython3",
   "version": "3.10.9"
  }
 },
 "nbformat": 4,
 "nbformat_minor": 2
}
