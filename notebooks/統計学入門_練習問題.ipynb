{
 "cells": [
  {
   "cell_type": "markdown",
   "metadata": {},
   "source": [
    "# 統計学入門 練習問題\n"
   ]
  },
  {
   "cell_type": "markdown",
   "metadata": {},
   "source": [
    "## 1章 "
   ]
  },
  {
   "cell_type": "markdown",
   "metadata": {},
   "source": [
    "## 1-1\n",
    "- 日本の人口\n",
    "- 日本の国家予算(一般会計)\n",
    "- 日本の国民総生産\n",
    "\n",
    "\n"
   ]
  },
  {
   "cell_type": "markdown",
   "metadata": {},
   "source": [
    "## 2章 記述統計学のキーワード\n",
    "- 階級, 度数分布表, 累積(相対)度数, ヒストグラム\n",
    "- ローレンツ曲線とジニ係数\n",
    "- 測定の尺度\n",
    "    - 名義尺度, 順序尺度, 間隔尺度, 比例尺度\n",
    "- 代表値\n",
    "    - 平均値, 中央値, 最頻値, 第一四分位数, 第三四分位数, 最大値, 最小値\n",
    "- 散らばりの尺度\n",
    "    - 範囲, 四分位範囲, 平均偏差, 分散, 変動係数, 標準化, 偏差値\n",
    "- 右裾分布の特徴: Mean > Medeian > Mode (アルファベット順で覚える)\n",
    "\n",
    "### 算術平均(よくある平均)\n",
    "$$ \\bar{x} = \\frac{x_1 + x_2 + \\cdots +x_n}{n} $$\n",
    "\n",
    "### 幾何平均(割合の平均)\n",
    "$$ x_G = (x_1 * x_2 * \\cdots * x_n )^\\frac{1}{n} $$\n",
    "\n",
    "### 調和平均(平均時速など)\n",
    "$$ \\frac{1}{x_H} = \\frac{1}{n}(\\frac{1}{x_1} + \\frac{1}{x_2} + \\cdots + \\frac{1}{x_n}) $$\n",
    "\n",
    "### 分散と標準偏差\n",
    "$$ S^2 = \\frac{1}{n}\\sum_{i=1}^n (x_i - \\bar{x})^2, \\quad S_x = \\sqrt{S_x^2} $$\n",
    "\n",
    "### 変動係数\n",
    "$$ CV = \\frac{S_x}{\\bar{x}} $$\n",
    "\n",
    "### 標準化\n",
    "$$ z_i = \\frac{x_i - \\bar{x}}{S_x} $$\n",
    "\n",
    "### 偏差値\n",
    "$$ T_i = 10 z_i + 50 $$\n"
   ]
  },
  {
   "cell_type": "markdown",
   "metadata": {},
   "source": [
    "## 2-2\n",
    "- 平均差\n",
    "$$ \\sum_i \\sum_j \\frac{|x_i - x_j|}{n^2} $$\n",
    "- ジニ係数\n",
    "$$\n",
    "GI = \\sum_i \\sum_j \\frac{|x_i - x_j|}{2 n^2 \\bar{x}}\n",
    "$$\n"
   ]
  },
  {
   "cell_type": "code",
   "execution_count": 505,
   "metadata": {},
   "outputs": [
    {
     "data": {
      "text/html": [
       "<div>\n",
       "<style scoped>\n",
       "    .dataframe tbody tr th:only-of-type {\n",
       "        vertical-align: middle;\n",
       "    }\n",
       "\n",
       "    .dataframe tbody tr th {\n",
       "        vertical-align: top;\n",
       "    }\n",
       "\n",
       "    .dataframe thead th {\n",
       "        text-align: right;\n",
       "    }\n",
       "</style>\n",
       "<table border=\"1\" class=\"dataframe\">\n",
       "  <thead>\n",
       "    <tr style=\"text-align: right;\">\n",
       "      <th></th>\n",
       "      <th>A</th>\n",
       "      <th>B</th>\n",
       "      <th>C</th>\n",
       "    </tr>\n",
       "  </thead>\n",
       "  <tbody>\n",
       "    <tr>\n",
       "      <th>count</th>\n",
       "      <td>10.000000</td>\n",
       "      <td>10.000000</td>\n",
       "      <td>10.000000</td>\n",
       "    </tr>\n",
       "    <tr>\n",
       "      <th>mean</th>\n",
       "      <td>5.000000</td>\n",
       "      <td>5.000000</td>\n",
       "      <td>5.000000</td>\n",
       "    </tr>\n",
       "    <tr>\n",
       "      <th>std</th>\n",
       "      <td>2.708013</td>\n",
       "      <td>3.464102</td>\n",
       "      <td>1.154701</td>\n",
       "    </tr>\n",
       "    <tr>\n",
       "      <th>min</th>\n",
       "      <td>0.000000</td>\n",
       "      <td>0.000000</td>\n",
       "      <td>3.000000</td>\n",
       "    </tr>\n",
       "    <tr>\n",
       "      <th>25%</th>\n",
       "      <td>3.500000</td>\n",
       "      <td>2.250000</td>\n",
       "      <td>4.250000</td>\n",
       "    </tr>\n",
       "    <tr>\n",
       "      <th>50%</th>\n",
       "      <td>5.000000</td>\n",
       "      <td>5.000000</td>\n",
       "      <td>5.000000</td>\n",
       "    </tr>\n",
       "    <tr>\n",
       "      <th>75%</th>\n",
       "      <td>6.500000</td>\n",
       "      <td>7.750000</td>\n",
       "      <td>5.750000</td>\n",
       "    </tr>\n",
       "    <tr>\n",
       "      <th>max</th>\n",
       "      <td>10.000000</td>\n",
       "      <td>10.000000</td>\n",
       "      <td>7.000000</td>\n",
       "    </tr>\n",
       "  </tbody>\n",
       "</table>\n",
       "</div>"
      ],
      "text/plain": [
       "               A          B          C\n",
       "count  10.000000  10.000000  10.000000\n",
       "mean    5.000000   5.000000   5.000000\n",
       "std     2.708013   3.464102   1.154701\n",
       "min     0.000000   0.000000   3.000000\n",
       "25%     3.500000   2.250000   4.250000\n",
       "50%     5.000000   5.000000   5.000000\n",
       "75%     6.500000   7.750000   5.750000\n",
       "max    10.000000  10.000000   7.000000"
      ]
     },
     "execution_count": 505,
     "metadata": {},
     "output_type": "execute_result"
    }
   ],
   "source": [
    "import pandas as pd\n",
    "from itertools import product, permutations\n",
    "import numpy as np\n",
    "import matplotlib.pyplot as plt\n",
    "from scipy.stats import norm\n",
    "\n",
    "DATA = {\n",
    "    'A': [0, 3, 3, 5, 5, 5, 5, 7, 7, 10],\n",
    "    'B': [0, 1, 2, 3, 5, 5, 7, 8, 9, 10],\n",
    "    'C': [3, 4, 4, 5, 5, 5, 5, 6, 6, 7],\n",
    "}\n",
    "\n",
    "df = pd.DataFrame(DATA)\n",
    "df.describe()"
   ]
  },
  {
   "cell_type": "code",
   "execution_count": 2,
   "metadata": {},
   "outputs": [
    {
     "name": "stdout",
     "output_type": "stream",
     "text": [
      "2.569046515733026 2.70801280154532\n",
      "2.569046515733026 2.569046515733026\n"
     ]
    }
   ],
   "source": [
    "# pandas と numpy の標準偏差の自由度が異なる\n",
    "print(np.std(df['A']), df['A'].std())\n",
    "# 自由度を指定しておけば間違える心配は無い\n",
    "print(np.std(df['A'], ddof=0), df['A'].std(ddof=0))"
   ]
  },
  {
   "cell_type": "code",
   "execution_count": 3,
   "metadata": {},
   "outputs": [
    {
     "name": "stdout",
     "output_type": "stream",
     "text": [
      "平均差 A = 2.760\n",
      "平均差 B = 3.760\n",
      "平均差 C = 1.200\n",
      "ジニ係数 A = 0.276\n",
      "ジニ係数 B = 0.376\n",
      "ジニ係数 C = 0.120\n"
     ]
    }
   ],
   "source": [
    "\n",
    "# 平均差\n",
    "for t in df.columns:\n",
    "    total = 0\n",
    "    for i, j in list(permutations(df[t], 2)):\n",
    "        total += np.abs(i-j)\n",
    "    meanDifference = total / (df[t].count()**2)\n",
    "    print(f'平均差 {t} = {meanDifference:.03f}')\n",
    "    \n",
    "# ジニ係数\n",
    "for t in df.columns:\n",
    "    total = 0\n",
    "    for i, j in list(permutations(df[t], 2)):\n",
    "        total += np.abs(i-j)\n",
    "    meanDifference = total / (2 * df[t].mean() * (df[t].count()**2))\n",
    "    print(f'ジニ係数 {t} = {meanDifference:.03f}')"
   ]
  },
  {
   "cell_type": "markdown",
   "metadata": {},
   "source": [
    "## 2-3 エントロピー\n"
   ]
  },
  {
   "cell_type": "markdown",
   "metadata": {},
   "source": [
    "- カテゴリーの相対頻度\n",
    "$$ \\hat{p} = \\frac{f_i}{n} $$\n",
    "\n",
    "- エントロピー\n",
    "$$ H(\\hat{p_1}, \\hat{p_1}, \\cdots \\hat{p_k}) - \\sum_{i=1}^h \\hat{p_i} \\log \\hat{p_i} $$\n",
    "\n",
    "- $H(\\hat{p_1}, \\hat{p_1}, \\cdots \\hat{p_k}) \\geq 0$\n",
    "- どれかの $\\hat{p}=1$ のとき、$H(\\hat{p_1}, \\hat{p_1}, \\cdots \\hat{p_k})=0$\n",
    "- $H(\\hat{p_1}, \\hat{p_1}, \\cdots \\hat{p_k}) \\leq H(1/k, 1/k, \\cdots 1/k)$ 最大値\n",
    "\n",
    "が成り立つ。この量をエントロピーという"
   ]
  },
  {
   "cell_type": "code",
   "execution_count": 57,
   "metadata": {},
   "outputs": [
    {
     "data": {
      "text/html": [
       "<div>\n",
       "<style scoped>\n",
       "    .dataframe tbody tr th:only-of-type {\n",
       "        vertical-align: middle;\n",
       "    }\n",
       "\n",
       "    .dataframe tbody tr th {\n",
       "        vertical-align: top;\n",
       "    }\n",
       "\n",
       "    .dataframe thead th {\n",
       "        text-align: right;\n",
       "    }\n",
       "</style>\n",
       "<table border=\"1\" class=\"dataframe\">\n",
       "  <thead>\n",
       "    <tr style=\"text-align: right;\">\n",
       "      <th></th>\n",
       "      <th>ThisYear</th>\n",
       "      <th>10YearsAgo</th>\n",
       "    </tr>\n",
       "  </thead>\n",
       "  <tbody>\n",
       "    <tr>\n",
       "      <th>A</th>\n",
       "      <td>32</td>\n",
       "      <td>28</td>\n",
       "    </tr>\n",
       "    <tr>\n",
       "      <th>B</th>\n",
       "      <td>19</td>\n",
       "      <td>13</td>\n",
       "    </tr>\n",
       "    <tr>\n",
       "      <th>C</th>\n",
       "      <td>10</td>\n",
       "      <td>18</td>\n",
       "    </tr>\n",
       "    <tr>\n",
       "      <th>D</th>\n",
       "      <td>24</td>\n",
       "      <td>29</td>\n",
       "    </tr>\n",
       "    <tr>\n",
       "      <th>E</th>\n",
       "      <td>15</td>\n",
       "      <td>12</td>\n",
       "    </tr>\n",
       "  </tbody>\n",
       "</table>\n",
       "</div>"
      ],
      "text/plain": [
       "   ThisYear  10YearsAgo\n",
       "A        32          28\n",
       "B        19          13\n",
       "C        10          18\n",
       "D        24          29\n",
       "E        15          12"
      ]
     },
     "execution_count": 57,
     "metadata": {},
     "output_type": "execute_result"
    }
   ],
   "source": [
    "df = pd.read_csv('2-3.csv', index_col=0).T\n",
    "df"
   ]
  },
  {
   "cell_type": "code",
   "execution_count": 64,
   "metadata": {},
   "outputs": [
    {
     "data": {
      "image/png": "[encoded data removed]",
      "text/plain": [
       "<Figure size 640x480 with 1 Axes>"
      ]
     },
     "metadata": {},
     "output_type": "display_data"
    }
   ],
   "source": [
    "displayData = ['ThisYear', '10YearsAgo'],\n",
    "for data in displayData:\n",
    "    plt.plot(df[data], label=data)\n",
    "plt.title('Birthplace')\n",
    "plt.xlabel('Area')\n",
    "plt.ylabel('Num of people')\n",
    "plt.legend()\n",
    "plt.show()"
   ]
  },
  {
   "cell_type": "code",
   "execution_count": 138,
   "metadata": {},
   "outputs": [
    {
     "name": "stdout",
     "output_type": "stream",
     "text": [
      "ThisYear entropy = 0.66772\n",
      "10YearsAgo entropy = 0.67044\n",
      "値はほとんど変化なく、集中性に変化はない\n"
     ]
    }
   ],
   "source": [
    "p = df['ThisYear'] / sum(df['ThisYear'])\n",
    "print(f'ThisYear entropy = {-sum(p * np.log10(p)):.05f}')\n",
    "p = df['10YearsAgo'] / sum(df['10YearsAgo'])\n",
    "print(f'10YearsAgo entropy = {-sum(p * np.log10(p)):.05f}')\n",
    "print('値はほとんど変化なく、集中性に変化はない')"
   ]
  },
  {
   "cell_type": "markdown",
   "metadata": {},
   "source": [
    "## 2-4\n",
    "- 標準得点\n",
    "$$ z_i = \\frac{x_i - \\bar{x}}{s_x} $$\n",
    "- 偏差値得点\n",
    "$$ T_i = 10 x_i + 50 $$"
   ]
  },
  {
   "cell_type": "code",
   "execution_count": 194,
   "metadata": {},
   "outputs": [
    {
     "data": {
      "text/html": [
       "<div>\n",
       "<style scoped>\n",
       "    .dataframe tbody tr th:only-of-type {\n",
       "        vertical-align: middle;\n",
       "    }\n",
       "\n",
       "    .dataframe tbody tr th {\n",
       "        vertical-align: top;\n",
       "    }\n",
       "\n",
       "    .dataframe thead th {\n",
       "        text-align: right;\n",
       "    }\n",
       "</style>\n",
       "<table border=\"1\" class=\"dataframe\">\n",
       "  <thead>\n",
       "    <tr style=\"text-align: right;\">\n",
       "      <th></th>\n",
       "      <th>A</th>\n",
       "      <th>B</th>\n",
       "      <th>C</th>\n",
       "    </tr>\n",
       "  </thead>\n",
       "  <tbody>\n",
       "    <tr>\n",
       "      <th>1</th>\n",
       "      <td>0</td>\n",
       "      <td>0</td>\n",
       "      <td>3</td>\n",
       "    </tr>\n",
       "    <tr>\n",
       "      <th>2</th>\n",
       "      <td>3</td>\n",
       "      <td>1</td>\n",
       "      <td>4</td>\n",
       "    </tr>\n",
       "    <tr>\n",
       "      <th>3</th>\n",
       "      <td>3</td>\n",
       "      <td>2</td>\n",
       "      <td>4</td>\n",
       "    </tr>\n",
       "    <tr>\n",
       "      <th>4</th>\n",
       "      <td>5</td>\n",
       "      <td>3</td>\n",
       "      <td>5</td>\n",
       "    </tr>\n",
       "    <tr>\n",
       "      <th>5</th>\n",
       "      <td>5</td>\n",
       "      <td>5</td>\n",
       "      <td>5</td>\n",
       "    </tr>\n",
       "  </tbody>\n",
       "</table>\n",
       "</div>"
      ],
      "text/plain": [
       "0  A  B  C\n",
       "1  0  0  3\n",
       "2  3  1  4\n",
       "3  3  2  4\n",
       "4  5  3  5\n",
       "5  5  5  5"
      ]
     },
     "execution_count": 194,
     "metadata": {},
     "output_type": "execute_result"
    }
   ],
   "source": [
    "df = pd.read_csv('2-3Data.csv', header=None, index_col=0).T\n",
    "df.head()"
   ]
  },
  {
   "cell_type": "code",
   "execution_count": 205,
   "metadata": {},
   "outputs": [
    {
     "name": "stdout",
     "output_type": "stream",
     "text": [
      "Result of column \"B\"\n",
      "算術平均 = 5.0\n",
      "標準偏差 = 3.286335345030997\n",
      "['-1.5', '-1.2', '-0.9', '-0.6', '0.0', '0.0', '0.6', '0.9', '1.2', '1.5']\n",
      "['34.8', '37.8', '40.9', '43.9', '50.0', '50.0', '56.1', '59.1', '62.2', '65.2']\n"
     ]
    }
   ],
   "source": [
    "def new_func(column):\n",
    "    print(f'Result of column \"{column}\"')\n",
    "    print(f'算術平均 = {df[column].mean()}')\n",
    "    print(f'標準偏差 = {df[column].std(ddof=0)}')\n",
    "    stdPoint = (df[column] - df[column].mean()) / df[column].std(ddof=0)\n",
    "    print([f'{p:.01f}' for p in stdPoint])\n",
    "    hensachi = (df[column] - df[column].mean()) / df[column].std(ddof=0) *10 + 50\n",
    "    print([f'{p:.01f}' for p in hensachi])\n",
    "\n",
    "new_func('B')"
   ]
  },
  {
   "cell_type": "markdown",
   "metadata": {},
   "source": [
    "## 第3章 \n",
    "\n",
    "### 2次元のデータ\n",
    "### 散布図と分割表\n",
    "### 相関係数\n",
    "\n",
    "相関係数の数字のみを判断の基準とすることは誤解を生みやすく、散布図を書いて確かめることが重要である\n",
    "- ピアソンの積率相関係数\n",
    "$$\n",
    "r_{xy}\n",
    "= \\frac{\\sum(x_i - \\bar{x})(y_i - \\bar{y})}{\\sqrt{\\sum(x_i-\\bar{x})^2} \\sqrt{\\sum(y_i - \\bar{y})^2}}\n",
    "= \\frac{Cov[x, y]}{S_x S_y}\n",
    "$$\n",
    "\n",
    "- スピアマンの順位相関係数\n",
    "    - $R_i, R_i'$ に通常の積率相関係数の式を適用したもの\n",
    "$$ r_s = 1-\\frac{6}{n^3 - n} \\sum(R_i - R_i')^2 $$\n",
    "\n",
    "- ケンドールの順位相関係数\n",
    "    - 正順、すなわち $R_i > R_k, R'_i > R'_k$、あるいは $R_i < R_k, R'_i < R'_k$ の場合には+1の値を与え\n",
    "    - 逆順、すなわち $R_i > R_k, R'_i < R'_k$、あるいは $R_i < R_k, R'_i > R'_k$  の場合には-1の値を与え\n",
    "    - $+1$ を与えた対の数 $G$ と $-1$ を与えた対の数 $H$ の大小関係をみる\n",
    "$$r _K = \\frac{G-H}{n(n-1)/2} $$\n",
    "\n",
    "- 正の完全相関、負の完全相関\n",
    "$$ r_{xy} = 1, \\ r_{xy} = -1 $$\n",
    "\n",
    "- 見かけ上の相関と偏相関係数\n",
    "    - 変数３の影響を除いたあとの変数１と変数２の 間の相関係数\n",
    "$$ r_{12 \\cdot 3} = \\frac{r_{12}-r_{13}r_{23}}{\\sqrt{(1 - r_{13}^2)} \\sqrt{(1 - r_{23}^2)}} $$\n",
    "\n",
    "- 遅れ $h$ の自己相関係数\n",
    "$$ r_h = \\frac{\\sum_{i=1}^{n-h}(x_i - \\bar{x})(x_{i+h}-\\bar{x})/(n-h)}{\\sum_{i=1}^n(x_i-\\bar{x})^2/n} $$\n",
    "\n",
    "- 直線および平面のあてはめ(単回帰分析と重回帰分析)\n",
    "$$ y = \\beta_0 + \\beta_1 x $$\n",
    "$$\n",
    "\\beta_1\n",
    "= \\frac{\\sum(x_i-\\bar{x})(y_i - \\bar{y})}{\\sum (x_i -\\bar{x})^2}\n",
    "= \\frac{\\sum(x_i y_i - n\\bar{x}\\bar{y})}{\\sum x_i^2 - n\\bar{x}^2}\n",
    " , \\quad \\beta_0 = \\bar{y} -beta_1 \\bar{x} $$\n",
    "\n",
    "- 決定係数\n",
    "$$ r_{xy}^2 $$"
   ]
  },
  {
   "cell_type": "markdown",
   "metadata": {},
   "source": [
    "## 3-1 練習問題"
   ]
  },
  {
   "cell_type": "code",
   "execution_count": 275,
   "metadata": {},
   "outputs": [],
   "source": [
    "import unicodedata\n",
    "unicodedata.normalize(\"NFKC\", '１２３')\n",
    "\n",
    "tokuhyou = '''\n",
    "４１．４ ７６．３ ５９．２ ５１．８ ５２．５ ５３．２ ６２．４ ５５．０ ５７．７\n",
    "６３．２ ３７．５ ４８．５ ３２．４ ２０．５ ４７．９ ６８．９ ６８．５ ５２．５ ６３．３ ５８．８\n",
    "５９．７ ４８．４ ４０．７ ５１．０ ５０．９ ３４．３ ２５．８ ３２．１ ３４．４ ５５．１ ６０．３\n",
    "５７．０ ４５．６ ５４．２ ５５．１ ５５．７ ７０．３ ６１．８ ４７．６ ４２．５ ７１．３ ５５．２\n",
    "６５．２ ４２．９ ５４．７ ６２．０ ４８．２\n",
    "'''\n",
    "\n",
    "mochiie = '''\n",
    "５２．８ ７１．２ ７２．６ ６３．７ ８１．３ ８１．８ ７０．９ ７４．０ ７３．２\n",
    "７２．９ ６６．７ ６５．７ ４３．７ ５５．５ ７９．６ ８５．７ ７５．３ ８０．５ ７３．０ ７７．０\n",
    "７７．５ ６９．２ ６０．０ ７８．２ ７９．５ ６１．８ ４９．６ ５９．６ ７２．１ ７１．０ ７６．３\n",
    "７２．８ ７１．８ ６０．７ ６７．０ ７１．８ ７１．２ ６８．３ ６８．５ ５４．８ ７６．０ ６５．８\n",
    "６９．４ ６６．９ ６９．７ ７１．２ ５９．６\n",
    "'''\n",
    "\n",
    "todoufuken = '''\n",
    "北海道 青森 岩手 宮城 秋田 山形 福島 茨城 栃木\n",
    "群馬 埼玉 千葉 東京 神奈川 新潟 富山 石川 福井 山梨 長野\n",
    "岐阜 静岡 愛知 三重 滋賀 京都 大阪 兵庫 奈良 和歌山 鳥取\n",
    "島根 岡山 広島 山口 徳島 香川 愛媛 高知 福岡 佐賀 長崎\n",
    "熊本 大分 宮崎 鹿児島 沖縄 \n",
    "'''\n",
    "\n",
    "tokuhyouritsu = [float(unicodedata.normalize(\"NFKC\", a)) for a in tokuhyou.split()]\n",
    "mochiieritsu = [float(unicodedata.normalize(\"NFKC\", a)) for a in mochiie.split()]\n",
    "todoufuken = todoufuken.split()    "
   ]
  },
  {
   "cell_type": "code",
   "execution_count": 276,
   "metadata": {},
   "outputs": [],
   "source": [
    "df = pd.DataFrame(\n",
    "    [tokuhyouritsu, mochiieritsu],\n",
    "    columns=todoufuken,\n",
    "    index=['自民得票率', '持ち家比率']\n",
    ")"
   ]
  },
  {
   "cell_type": "code",
   "execution_count": 277,
   "metadata": {},
   "outputs": [
    {
     "name": "stdout",
     "output_type": "stream",
     "text": [
      "          自民得票率     持ち家比率\n",
      "自民得票率  1.000000  0.638782\n",
      "持ち家比率  0.638782  1.000000\n"
     ]
    },
    {
     "data": {
      "image/png": "[encoded data removed]",
      "text/plain": [
       "<Figure size 640x480 with 1 Axes>"
      ]
     },
     "metadata": {},
     "output_type": "display_data"
    }
   ],
   "source": [
    "plt.scatter(df.iloc[:1], df.iloc[1:])\n",
    "print(df.T.corr())\n",
    "plt.title('jimin tokuhyouritsu and mochiie hiritsu')\n",
    "plt.xlabel('jimin tokuhyouritsu')\n",
    "plt.ylabel('mochiie hiritsu')\n",
    "plt.show()"
   ]
  },
  {
   "cell_type": "markdown",
   "metadata": {},
   "source": [
    "スピアマンの順位相関\n",
    "$$ r_s = 1-\\frac{6}{n^3 - n} \\sum(R_i - R_i')^2 $$"
   ]
  },
  {
   "cell_type": "code",
   "execution_count": 311,
   "metadata": {},
   "outputs": [
    {
     "data": {
      "text/html": [
       "<div>\n",
       "<style scoped>\n",
       "    .dataframe tbody tr th:only-of-type {\n",
       "        vertical-align: middle;\n",
       "    }\n",
       "\n",
       "    .dataframe tbody tr th {\n",
       "        vertical-align: top;\n",
       "    }\n",
       "\n",
       "    .dataframe thead th {\n",
       "        text-align: right;\n",
       "    }\n",
       "</style>\n",
       "<table border=\"1\" class=\"dataframe\">\n",
       "  <thead>\n",
       "    <tr style=\"text-align: right;\">\n",
       "      <th></th>\n",
       "      <th>女性有権者団体</th>\n",
       "      <th>短期大学生</th>\n",
       "      <th>経営者団体</th>\n",
       "      <th>大学教授・研究者・専門職等</th>\n",
       "    </tr>\n",
       "  </thead>\n",
       "  <tbody>\n",
       "    <tr>\n",
       "      <th>原子力</th>\n",
       "      <td>1</td>\n",
       "      <td>1</td>\n",
       "      <td>8</td>\n",
       "      <td>20</td>\n",
       "    </tr>\n",
       "    <tr>\n",
       "      <th>自動車</th>\n",
       "      <td>2</td>\n",
       "      <td>5</td>\n",
       "      <td>3</td>\n",
       "      <td>1</td>\n",
       "    </tr>\n",
       "    <tr>\n",
       "      <th>銃(handgun)</th>\n",
       "      <td>3</td>\n",
       "      <td>2</td>\n",
       "      <td>1</td>\n",
       "      <td>4</td>\n",
       "    </tr>\n",
       "    <tr>\n",
       "      <th>喫煙</th>\n",
       "      <td>4</td>\n",
       "      <td>3</td>\n",
       "      <td>4</td>\n",
       "      <td>2</td>\n",
       "    </tr>\n",
       "    <tr>\n",
       "      <th>バイク</th>\n",
       "      <td>5</td>\n",
       "      <td>6</td>\n",
       "      <td>2</td>\n",
       "      <td>6</td>\n",
       "    </tr>\n",
       "  </tbody>\n",
       "</table>\n",
       "</div>"
      ],
      "text/plain": [
       "            女性有権者団体  短期大学生  経営者団体  大学教授・研究者・専門職等\n",
       "原子力               1      1      8             20\n",
       "自動車               2      5      3              1\n",
       "銃(handgun)        3      2      1              4\n",
       "喫煙                4      3      4              2\n",
       "バイク               5      6      2              6"
      ]
     },
     "execution_count": 311,
     "metadata": {},
     "output_type": "execute_result"
    }
   ],
   "source": [
    "df = pd.read_csv('3-14.csv', index_col=0)\n",
    "df.astype(int)\n",
    "df.head()"
   ]
  },
  {
   "cell_type": "code",
   "execution_count": 337,
   "metadata": {},
   "outputs": [
    {
     "data": {
      "text/plain": [
       "[('女性有権者団体', '短期大学生'),\n",
       " ('女性有権者団体', '経営者団体'),\n",
       " ('女性有権者団体', '大学教授・研究者・専門職等'),\n",
       " ('短期大学生', '女性有権者団体'),\n",
       " ('短期大学生', '経営者団体'),\n",
       " ('短期大学生', '大学教授・研究者・専門職等'),\n",
       " ('経営者団体', '女性有権者団体'),\n",
       " ('経営者団体', '短期大学生'),\n",
       " ('経営者団体', '大学教授・研究者・専門職等'),\n",
       " ('大学教授・研究者・専門職等', '女性有権者団体'),\n",
       " ('大学教授・研究者・専門職等', '短期大学生'),\n",
       " ('大学教授・研究者・専門職等', '経営者団体')]"
      ]
     },
     "execution_count": 337,
     "metadata": {},
     "output_type": "execute_result"
    }
   ],
   "source": [
    "from itertools import permutations\n",
    "list(permutations(df.columns, 2))"
   ]
  },
  {
   "cell_type": "code",
   "execution_count": null,
   "metadata": {},
   "outputs": [],
   "source": []
  },
  {
   "cell_type": "code",
   "execution_count": 338,
   "metadata": {},
   "outputs": [
    {
     "name": "stdout",
     "output_type": "stream",
     "text": [
      "女性有権者団体 と 短期大学生 のスピアマン相関係数は 0.822\n",
      "女性有権者団体 と 経営者団体 のスピアマン相関係数は 0.923\n",
      "女性有権者団体 と 大学教授・研究者・専門職等 のスピアマン相関係数は 0.531\n",
      "短期大学生 と 女性有権者団体 のスピアマン相関係数は 0.822\n",
      "短期大学生 と 経営者団体 のスピアマン相関係数は 0.632\n",
      "短期大学生 と 大学教授・研究者・専門職等 のスピアマン相関係数は 0.624\n",
      "経営者団体 と 女性有権者団体 のスピアマン相関係数は 0.923\n",
      "経営者団体 と 短期大学生 のスピアマン相関係数は 0.632\n",
      "経営者団体 と 大学教授・研究者・専門職等 のスピアマン相関係数は 0.436\n",
      "大学教授・研究者・専門職等 と 女性有権者団体 のスピアマン相関係数は 0.531\n",
      "大学教授・研究者・専門職等 と 短期大学生 のスピアマン相関係数は 0.624\n",
      "大学教授・研究者・専門職等 と 経営者団体 のスピアマン相関係数は 0.436\n"
     ]
    }
   ],
   "source": [
    "# c1, c2 = list(combinations(df.columns, 2))[0]\n",
    "for c1, c2 in list(permutations(df.columns, 2)):\n",
    "    n = df.shape[0]\n",
    "    diff = df[c1] - df[c2]\n",
    "    r = 1 - 6 / (n**3 - n) * np.sum(diff**2)\n",
    "    print(f'{c1} と {c2} のスピアマン相関係数は {r:.03f}')"
   ]
  },
  {
   "cell_type": "markdown",
   "metadata": {},
   "source": [
    "## とある機種の確率を使って考察をしてみる\n",
    "\n",
    "- 当りの確率\n",
    "- 1000回ごとの当り回数の平均と分散"
   ]
  },
  {
   "cell_type": "code",
   "execution_count": 489,
   "metadata": {},
   "outputs": [
    {
     "data": {
      "text/html": [
       "<div>\n",
       "<style scoped>\n",
       "    .dataframe tbody tr th:only-of-type {\n",
       "        vertical-align: middle;\n",
       "    }\n",
       "\n",
       "    .dataframe tbody tr th {\n",
       "        vertical-align: top;\n",
       "    }\n",
       "\n",
       "    .dataframe thead th {\n",
       "        text-align: right;\n",
       "    }\n",
       "</style>\n",
       "<table border=\"1\" class=\"dataframe\">\n",
       "  <thead>\n",
       "    <tr style=\"text-align: right;\">\n",
       "      <th></th>\n",
       "      <th>BIG</th>\n",
       "      <th>REG</th>\n",
       "      <th>ボーナス合算</th>\n",
       "      <th>機械割</th>\n",
       "    </tr>\n",
       "    <tr>\n",
       "      <th>設定</th>\n",
       "      <th></th>\n",
       "      <th></th>\n",
       "      <th></th>\n",
       "      <th></th>\n",
       "    </tr>\n",
       "  </thead>\n",
       "  <tbody>\n",
       "    <tr>\n",
       "      <th>1</th>\n",
       "      <td>273.1</td>\n",
       "      <td>409.6</td>\n",
       "      <td>163.8</td>\n",
       "      <td>97.0</td>\n",
       "    </tr>\n",
       "    <tr>\n",
       "      <th>2</th>\n",
       "      <td>270.8</td>\n",
       "      <td>385.5</td>\n",
       "      <td>159.1</td>\n",
       "      <td>98.0</td>\n",
       "    </tr>\n",
       "    <tr>\n",
       "      <th>3</th>\n",
       "      <td>266.4</td>\n",
       "      <td>336.1</td>\n",
       "      <td>148.6</td>\n",
       "      <td>99.9</td>\n",
       "    </tr>\n",
       "    <tr>\n",
       "      <th>4</th>\n",
       "      <td>254.0</td>\n",
       "      <td>290.0</td>\n",
       "      <td>135.4</td>\n",
       "      <td>102.8</td>\n",
       "    </tr>\n",
       "    <tr>\n",
       "      <th>5</th>\n",
       "      <td>240.1</td>\n",
       "      <td>268.6</td>\n",
       "      <td>126.8</td>\n",
       "      <td>105.3</td>\n",
       "    </tr>\n",
       "    <tr>\n",
       "      <th>6</th>\n",
       "      <td>229.1</td>\n",
       "      <td>229.1</td>\n",
       "      <td>114.6</td>\n",
       "      <td>109.4</td>\n",
       "    </tr>\n",
       "  </tbody>\n",
       "</table>\n",
       "</div>"
      ],
      "text/plain": [
       "      BIG    REG  ボーナス合算    機械割\n",
       "設定                             \n",
       "1   273.1  409.6   163.8   97.0\n",
       "2   270.8  385.5   159.1   98.0\n",
       "3   266.4  336.1   148.6   99.9\n",
       "4   254.0  290.0   135.4  102.8\n",
       "5   240.1  268.6   126.8  105.3\n",
       "6   229.1  229.1   114.6  109.4"
      ]
     },
     "execution_count": 489,
     "metadata": {},
     "output_type": "execute_result"
    }
   ],
   "source": [
    "df = pd.read_csv('myj.csv', index_col=0)\n",
    "df"
   ]
  },
  {
   "cell_type": "code",
   "execution_count": 490,
   "metadata": {},
   "outputs": [
    {
     "data": {
      "text/html": [
       "<div>\n",
       "<style scoped>\n",
       "    .dataframe tbody tr th:only-of-type {\n",
       "        vertical-align: middle;\n",
       "    }\n",
       "\n",
       "    .dataframe tbody tr th {\n",
       "        vertical-align: top;\n",
       "    }\n",
       "\n",
       "    .dataframe thead th {\n",
       "        text-align: right;\n",
       "    }\n",
       "</style>\n",
       "<table border=\"1\" class=\"dataframe\">\n",
       "  <thead>\n",
       "    <tr style=\"text-align: right;\">\n",
       "      <th></th>\n",
       "      <th>BIG</th>\n",
       "      <th>REG</th>\n",
       "      <th>ボーナス合算</th>\n",
       "      <th>機械割</th>\n",
       "      <th>bonusProbability</th>\n",
       "    </tr>\n",
       "    <tr>\n",
       "      <th>設定</th>\n",
       "      <th></th>\n",
       "      <th></th>\n",
       "      <th></th>\n",
       "      <th></th>\n",
       "      <th></th>\n",
       "    </tr>\n",
       "  </thead>\n",
       "  <tbody>\n",
       "    <tr>\n",
       "      <th>1</th>\n",
       "      <td>273.1</td>\n",
       "      <td>409.6</td>\n",
       "      <td>163.8</td>\n",
       "      <td>97.0</td>\n",
       "      <td>0.006105</td>\n",
       "    </tr>\n",
       "    <tr>\n",
       "      <th>2</th>\n",
       "      <td>270.8</td>\n",
       "      <td>385.5</td>\n",
       "      <td>159.1</td>\n",
       "      <td>98.0</td>\n",
       "      <td>0.006285</td>\n",
       "    </tr>\n",
       "    <tr>\n",
       "      <th>3</th>\n",
       "      <td>266.4</td>\n",
       "      <td>336.1</td>\n",
       "      <td>148.6</td>\n",
       "      <td>99.9</td>\n",
       "      <td>0.006729</td>\n",
       "    </tr>\n",
       "    <tr>\n",
       "      <th>4</th>\n",
       "      <td>254.0</td>\n",
       "      <td>290.0</td>\n",
       "      <td>135.4</td>\n",
       "      <td>102.8</td>\n",
       "      <td>0.007386</td>\n",
       "    </tr>\n",
       "    <tr>\n",
       "      <th>5</th>\n",
       "      <td>240.1</td>\n",
       "      <td>268.6</td>\n",
       "      <td>126.8</td>\n",
       "      <td>105.3</td>\n",
       "      <td>0.007886</td>\n",
       "    </tr>\n",
       "    <tr>\n",
       "      <th>6</th>\n",
       "      <td>229.1</td>\n",
       "      <td>229.1</td>\n",
       "      <td>114.6</td>\n",
       "      <td>109.4</td>\n",
       "      <td>0.008726</td>\n",
       "    </tr>\n",
       "  </tbody>\n",
       "</table>\n",
       "</div>"
      ],
      "text/plain": [
       "      BIG    REG  ボーナス合算    機械割  bonusProbability\n",
       "設定                                               \n",
       "1   273.1  409.6   163.8   97.0          0.006105\n",
       "2   270.8  385.5   159.1   98.0          0.006285\n",
       "3   266.4  336.1   148.6   99.9          0.006729\n",
       "4   254.0  290.0   135.4  102.8          0.007386\n",
       "5   240.1  268.6   126.8  105.3          0.007886\n",
       "6   229.1  229.1   114.6  109.4          0.008726"
      ]
     },
     "execution_count": 490,
     "metadata": {},
     "output_type": "execute_result"
    }
   ],
   "source": [
    "df['bonusProbability'] = (1  / df.iloc[:, 2])\n",
    "df"
   ]
  },
  {
   "cell_type": "code",
   "execution_count": 504,
   "metadata": {},
   "outputs": [
    {
     "data": {
      "text/html": [
       "<div>\n",
       "<style scoped>\n",
       "    .dataframe tbody tr th:only-of-type {\n",
       "        vertical-align: middle;\n",
       "    }\n",
       "\n",
       "    .dataframe tbody tr th {\n",
       "        vertical-align: top;\n",
       "    }\n",
       "\n",
       "    .dataframe thead th {\n",
       "        text-align: right;\n",
       "    }\n",
       "</style>\n",
       "<table border=\"1\" class=\"dataframe\">\n",
       "  <thead>\n",
       "    <tr style=\"text-align: right;\">\n",
       "      <th></th>\n",
       "      <th>bonusProbability</th>\n",
       "      <th>expected 2000</th>\n",
       "      <th>std 2000</th>\n",
       "      <th>expected 4000</th>\n",
       "      <th>std 4000</th>\n",
       "      <th>expected 6000</th>\n",
       "      <th>std 6000</th>\n",
       "      <th>expected 8000</th>\n",
       "      <th>std 8000</th>\n",
       "    </tr>\n",
       "    <tr>\n",
       "      <th>設定</th>\n",
       "      <th></th>\n",
       "      <th></th>\n",
       "      <th></th>\n",
       "      <th></th>\n",
       "      <th></th>\n",
       "      <th></th>\n",
       "      <th></th>\n",
       "      <th></th>\n",
       "      <th></th>\n",
       "    </tr>\n",
       "  </thead>\n",
       "  <tbody>\n",
       "    <tr>\n",
       "      <th>1</th>\n",
       "      <td>0.006105</td>\n",
       "      <td>12.210012</td>\n",
       "      <td>3.483600</td>\n",
       "      <td>24.420024</td>\n",
       "      <td>4.926555</td>\n",
       "      <td>36.630037</td>\n",
       "      <td>6.033772</td>\n",
       "      <td>48.840049</td>\n",
       "      <td>6.967200</td>\n",
       "    </tr>\n",
       "    <tr>\n",
       "      <th>2</th>\n",
       "      <td>0.006285</td>\n",
       "      <td>12.570710</td>\n",
       "      <td>3.534360</td>\n",
       "      <td>25.141420</td>\n",
       "      <td>4.998339</td>\n",
       "      <td>37.712131</td>\n",
       "      <td>6.121691</td>\n",
       "      <td>50.282841</td>\n",
       "      <td>7.068720</td>\n",
       "    </tr>\n",
       "    <tr>\n",
       "      <th>3</th>\n",
       "      <td>0.006729</td>\n",
       "      <td>13.458950</td>\n",
       "      <td>3.656279</td>\n",
       "      <td>26.917900</td>\n",
       "      <td>5.170760</td>\n",
       "      <td>40.376851</td>\n",
       "      <td>6.332862</td>\n",
       "      <td>53.835801</td>\n",
       "      <td>7.312559</td>\n",
       "    </tr>\n",
       "    <tr>\n",
       "      <th>4</th>\n",
       "      <td>0.007386</td>\n",
       "      <td>14.771049</td>\n",
       "      <td>3.829093</td>\n",
       "      <td>29.542097</td>\n",
       "      <td>5.415156</td>\n",
       "      <td>44.313146</td>\n",
       "      <td>6.632184</td>\n",
       "      <td>59.084195</td>\n",
       "      <td>7.658187</td>\n",
       "    </tr>\n",
       "    <tr>\n",
       "      <th>5</th>\n",
       "      <td>0.007886</td>\n",
       "      <td>15.772871</td>\n",
       "      <td>3.955816</td>\n",
       "      <td>31.545741</td>\n",
       "      <td>5.594368</td>\n",
       "      <td>47.318612</td>\n",
       "      <td>6.851674</td>\n",
       "      <td>63.091483</td>\n",
       "      <td>7.911632</td>\n",
       "    </tr>\n",
       "    <tr>\n",
       "      <th>6</th>\n",
       "      <td>0.008726</td>\n",
       "      <td>17.452007</td>\n",
       "      <td>4.159293</td>\n",
       "      <td>34.904014</td>\n",
       "      <td>5.882129</td>\n",
       "      <td>52.356021</td>\n",
       "      <td>7.204107</td>\n",
       "      <td>69.808028</td>\n",
       "      <td>8.318587</td>\n",
       "    </tr>\n",
       "  </tbody>\n",
       "</table>\n",
       "</div>"
      ],
      "text/plain": [
       "    bonusProbability  expected 2000  std 2000  expected 4000  std 4000  \\\n",
       "設定                                                                       \n",
       "1           0.006105      12.210012  3.483600      24.420024  4.926555   \n",
       "2           0.006285      12.570710  3.534360      25.141420  4.998339   \n",
       "3           0.006729      13.458950  3.656279      26.917900  5.170760   \n",
       "4           0.007386      14.771049  3.829093      29.542097  5.415156   \n",
       "5           0.007886      15.772871  3.955816      31.545741  5.594368   \n",
       "6           0.008726      17.452007  4.159293      34.904014  5.882129   \n",
       "\n",
       "    expected 6000  std 6000  expected 8000  std 8000  \n",
       "設定                                                    \n",
       "1       36.630037  6.033772      48.840049  6.967200  \n",
       "2       37.712131  6.121691      50.282841  7.068720  \n",
       "3       40.376851  6.332862      53.835801  7.312559  \n",
       "4       44.313146  6.632184      59.084195  7.658187  \n",
       "5       47.318612  6.851674      63.091483  7.911632  \n",
       "6       52.356021  7.204107      69.808028  8.318587  "
      ]
     },
     "execution_count": 504,
     "metadata": {},
     "output_type": "execute_result"
    }
   ],
   "source": [
    "dfP = pd.DataFrame({f'bonusProbability': (1  / df.iloc[:, 2])})\n",
    "for i in range(4):\n",
    "    numOfRotaions = (i+1) * 2000\n",
    "    dfP[f'expected {numOfRotaions}'] = df['bonusProbability'] * numOfRotaions\n",
    "    dfP[f'std {numOfRotaions}'] = np.sqrt(df['bonusProbability'] * (1 - df['bonusProbability']) * numOfRotaions)\n",
    "dfP"
   ]
  },
  {
   "cell_type": "code",
   "execution_count": 529,
   "metadata": {},
   "outputs": [
    {
     "data": {
      "image/png": "[encoded data removed]",
      "text/plain": [
       "<Figure size 640x480 with 1 Axes>"
      ]
     },
     "metadata": {},
     "output_type": "display_data"
    }
   ],
   "source": [
    "pos = 7\n",
    "for i in range(5):\n",
    "    x = np.arange(0, dfP.iloc[i, pos]*2, 0.1)\n",
    "    y = norm.pdf(x, dfP.iloc[i, pos], dfP.iloc[i, pos+1])\n",
    "    plt.plot(x, y)\n",
    "plt.show()"
   ]
  },
  {
   "cell_type": "markdown",
   "metadata": {},
   "source": [
    "## 4章 確率"
   ]
  },
  {
   "cell_type": "code",
   "execution_count": null,
   "metadata": {},
   "outputs": [],
   "source": []
  }
 ],
 "metadata": {
  "kernelspec": {
   "display_name": "Python 3",
   "language": "python",
   "name": "python3"
  },
  "language_info": {
   "codemirror_mode": {
    "name": "ipython",
    "version": 3
   },
   "file_extension": ".py",
   "mimetype": "text/x-python",
   "name": "python",
   "nbconvert_exporter": "python",
   "pygments_lexer": "ipython3",
   "version": "3.10.9"
  }
 },
 "nbformat": 4,
 "nbformat_minor": 2
}
