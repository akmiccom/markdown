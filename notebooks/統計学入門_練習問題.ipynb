{
 "cells": [
  {
   "cell_type": "markdown",
   "metadata": {},
   "source": [
    "# 統計学入門 練習問題\n"
   ]
  },
  {
   "cell_type": "markdown",
   "metadata": {},
   "source": [
    "## 1章 "
   ]
  },
  {
   "cell_type": "markdown",
   "metadata": {},
   "source": [
    "## 1-1\n",
    "- 日本の人口\n",
    "- 日本の国家予算(一般会計)\n",
    "- 日本の国民総生産\n",
    "\n",
    "\n"
   ]
  },
  {
   "cell_type": "markdown",
   "metadata": {},
   "source": [
    "## 2章 記述統計学のキーワード\n",
    "- 階級, 度数分布表, 累積(相対)度数, ヒストグラム\n",
    "- ローレンツ曲線とジニ係数\n",
    "- 測定の尺度\n",
    "    - 名義尺度, 順序尺度, 間隔尺度, 比例尺度\n",
    "- 代表値\n",
    "    - 平均値, 中央値, 最頻値, 第一四分位数, 第三四分位数, 最大値, 最小値\n",
    "- 散らばりの尺度\n",
    "    - 範囲, 四分位範囲, 平均偏差, 分散, 変動係数, 標準化, 偏差値\n",
    "- 右裾分布の特徴: Mean > Medeian > Mode (アルファベット順で覚える)\n",
    "\n",
    "### 算術平均(よくある平均)\n",
    "$$ \\bar{x} = \\frac{x_1 + x_2 + \\cdots +x_n}{n} $$\n",
    "\n",
    "### 幾何平均(割合の平均)\n",
    "$$ x_G = (x_1 * x_2 * \\cdots * x_n )^\\frac{1}{n} $$\n",
    "\n",
    "### 調和平均(平均時速など)\n",
    "$$ \\frac{1}{x_H} = \\frac{1}{n}(\\frac{1}{x_1} + \\frac{1}{x_2} + \\cdots + \\frac{1}{x_n}) $$\n",
    "\n",
    "### 分散と標準偏差\n",
    "$$ S^2 = \\frac{1}{n}\\sum_{i=1}^n (x_i - \\bar{x})^2, \\quad S_x = \\sqrt{S_x^2} $$\n",
    "\n",
    "### 変動係数\n",
    "$$ CV = \\frac{S_x}{\\bar{x}} $$\n",
    "\n",
    "### 標準化\n",
    "$$ z_i = \\frac{x_i - \\bar{x}}{S_x} $$\n",
    "\n",
    "### 偏差値\n",
    "$$ T_i = 10 z_i + 50 $$\n"
   ]
  },
  {
   "cell_type": "markdown",
   "metadata": {},
   "source": [
    "## 2-2\n",
    "- 平均差\n",
    "$$ \\sum_i \\sum_j \\frac{|x_i - x_j|}{n^2} $$\n",
    "- ジニ係数\n",
    "$$\n",
    "GI = \\sum_i \\sum_j \\frac{|x_i - x_j|}{2 n^2 \\bar{x}}\n",
    "$$\n"
   ]
  },
  {
   "cell_type": "code",
   "execution_count": 90,
   "metadata": {},
   "outputs": [
    {
     "data": {
      "text/html": [
       "<div>\n",
       "<style scoped>\n",
       "    .dataframe tbody tr th:only-of-type {\n",
       "        vertical-align: middle;\n",
       "    }\n",
       "\n",
       "    .dataframe tbody tr th {\n",
       "        vertical-align: top;\n",
       "    }\n",
       "\n",
       "    .dataframe thead th {\n",
       "        text-align: right;\n",
       "    }\n",
       "</style>\n",
       "<table border=\"1\" class=\"dataframe\">\n",
       "  <thead>\n",
       "    <tr style=\"text-align: right;\">\n",
       "      <th></th>\n",
       "      <th>A</th>\n",
       "      <th>B</th>\n",
       "      <th>C</th>\n",
       "    </tr>\n",
       "  </thead>\n",
       "  <tbody>\n",
       "    <tr>\n",
       "      <th>count</th>\n",
       "      <td>10.000000</td>\n",
       "      <td>10.000000</td>\n",
       "      <td>10.000000</td>\n",
       "    </tr>\n",
       "    <tr>\n",
       "      <th>mean</th>\n",
       "      <td>5.000000</td>\n",
       "      <td>5.000000</td>\n",
       "      <td>5.000000</td>\n",
       "    </tr>\n",
       "    <tr>\n",
       "      <th>std</th>\n",
       "      <td>2.708013</td>\n",
       "      <td>3.464102</td>\n",
       "      <td>1.154701</td>\n",
       "    </tr>\n",
       "    <tr>\n",
       "      <th>min</th>\n",
       "      <td>0.000000</td>\n",
       "      <td>0.000000</td>\n",
       "      <td>3.000000</td>\n",
       "    </tr>\n",
       "    <tr>\n",
       "      <th>25%</th>\n",
       "      <td>3.500000</td>\n",
       "      <td>2.250000</td>\n",
       "      <td>4.250000</td>\n",
       "    </tr>\n",
       "    <tr>\n",
       "      <th>50%</th>\n",
       "      <td>5.000000</td>\n",
       "      <td>5.000000</td>\n",
       "      <td>5.000000</td>\n",
       "    </tr>\n",
       "    <tr>\n",
       "      <th>75%</th>\n",
       "      <td>6.500000</td>\n",
       "      <td>7.750000</td>\n",
       "      <td>5.750000</td>\n",
       "    </tr>\n",
       "    <tr>\n",
       "      <th>max</th>\n",
       "      <td>10.000000</td>\n",
       "      <td>10.000000</td>\n",
       "      <td>7.000000</td>\n",
       "    </tr>\n",
       "  </tbody>\n",
       "</table>\n",
       "</div>"
      ],
      "text/plain": [
       "               A          B          C\n",
       "count  10.000000  10.000000  10.000000\n",
       "mean    5.000000   5.000000   5.000000\n",
       "std     2.708013   3.464102   1.154701\n",
       "min     0.000000   0.000000   3.000000\n",
       "25%     3.500000   2.250000   4.250000\n",
       "50%     5.000000   5.000000   5.000000\n",
       "75%     6.500000   7.750000   5.750000\n",
       "max    10.000000  10.000000   7.000000"
      ]
     },
     "execution_count": 90,
     "metadata": {},
     "output_type": "execute_result"
    }
   ],
   "source": [
    "import pandas as pd\n",
    "from itertools import product, permutations\n",
    "import numpy as np\n",
    "\n",
    "DATA = {\n",
    "    'A': [0, 3, 3, 5, 5, 5, 5, 7, 7, 10],\n",
    "    'B': [0, 1, 2, 3, 5, 5, 7, 8, 9, 10],\n",
    "    'C': [3, 4, 4, 5, 5, 5, 5, 6, 6, 7],\n",
    "}\n",
    "\n",
    "df = pd.DataFrame(DATA)\n",
    "df.describe()"
   ]
  },
  {
   "cell_type": "code",
   "execution_count": 89,
   "metadata": {},
   "outputs": [
    {
     "name": "stdout",
     "output_type": "stream",
     "text": [
      "2.569046515733026 2.70801280154532\n",
      "2.569046515733026 2.569046515733026\n"
     ]
    }
   ],
   "source": [
    "# pandas と numpy の標準偏差の自由度が異なる\n",
    "print(np.std(df['A']), df['A'].std())\n",
    "# 自由度を指定しておけば間違える心配は無い\n",
    "print(np.std(df['A'], ddof=0), df['A'].std(ddof=0))"
   ]
  },
  {
   "cell_type": "code",
   "execution_count": 81,
   "metadata": {},
   "outputs": [
    {
     "name": "stdout",
     "output_type": "stream",
     "text": [
      "平均差 A = 2.760\n",
      "平均差 B = 3.760\n",
      "平均差 C = 1.200\n",
      "ジニ係数 A = 0.276\n",
      "ジニ係数 B = 0.376\n",
      "ジニ係数 C = 0.120\n"
     ]
    }
   ],
   "source": [
    "\n",
    "# 平均差\n",
    "for t in df.columns:\n",
    "    total = 0\n",
    "    for i, j in list(permutations(df[t], 2)):\n",
    "        total += np.abs(i-j)\n",
    "    meanDifference = total / (df[t].count()**2)\n",
    "    print(f'平均差 {t} = {meanDifference:.03f}')\n",
    "    \n",
    "# ジニ係数\n",
    "for t in df.columns:\n",
    "    total = 0\n",
    "    for i, j in list(permutations(df[t], 2)):\n",
    "        total += np.abs(i-j)\n",
    "    meanDifference = total / (2 * df[t].mean() * (df[t].count()**2))\n",
    "    print(f'ジニ係数 {t} = {meanDifference:.03f}')"
   ]
  },
  {
   "cell_type": "markdown",
   "metadata": {},
   "source": [
    "## 2-3\n"
   ]
  },
  {
   "cell_type": "code",
   "execution_count": null,
   "metadata": {},
   "outputs": [],
   "source": []
  }
 ],
 "metadata": {
  "kernelspec": {
   "display_name": "Python 3",
   "language": "python",
   "name": "python3"
  },
  "language_info": {
   "codemirror_mode": {
    "name": "ipython",
    "version": 3
   },
   "file_extension": ".py",
   "mimetype": "text/x-python",
   "name": "python",
   "nbconvert_exporter": "python",
   "pygments_lexer": "ipython3",
   "version": "3.10.9"
  }
 },
 "nbformat": 4,
 "nbformat_minor": 2
}
