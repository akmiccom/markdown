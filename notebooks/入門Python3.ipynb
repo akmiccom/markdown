{
 "cells": [
  {
   "cell_type": "code",
   "execution_count": 3,
   "metadata": {},
   "outputs": [
    {
     "name": "stdout",
     "output_type": "stream",
     "text": [
      "72\n",
      "47\n"
     ]
    }
   ],
   "source": [
    "print(8 * 9)\n",
    "print(47)"
   ]
  },
  {
   "cell_type": "code",
   "execution_count": 9,
   "metadata": {},
   "outputs": [
    {
     "name": "stdout",
     "output_type": "stream",
     "text": [
      "99\n",
      "<class 'int'>\n",
      "<class 'float'>\n",
      "<class 'float'>\n"
     ]
    }
   ],
   "source": [
    "prince = 99\n",
    "print(prince)  # 99\n",
    "print(type(5))  # <class 'int'>\n",
    "print(type(3.0))  # <class 'float'>\n",
    "print(type(5 + 2.0))  # <class 'float'>"
   ]
  },
  {
   "cell_type": "code",
   "execution_count": 17,
   "metadata": {},
   "outputs": [
    {
     "name": "stdout",
     "output_type": "stream",
     "text": [
      "1時間は何秒か? → 3600 sec\n",
      "1日は何秒か? → 86400 sec\n",
      "24.0\n",
      "24\n"
     ]
    }
   ],
   "source": [
    "second_per_hour = 60 * 60\n",
    "print(f'1時間は何秒か? → {second_per_hour} sec')\n",
    "second_per_day = second_per_hour * 24\n",
    "print(f'1日は何秒か? → {second_per_day} sec')\n",
    "print(second_per_day / second_per_hour)\n",
    "print(second_per_day // second_per_hour)"
   ]
  }
 ],
 "metadata": {
  "kernelspec": {
   "display_name": "Python 3",
   "language": "python",
   "name": "python3"
  },
  "language_info": {
   "codemirror_mode": {
    "name": "ipython",
    "version": 3
   },
   "file_extension": ".py",
   "mimetype": "text/x-python",
   "name": "python",
   "nbconvert_exporter": "python",
   "pygments_lexer": "ipython3",
   "version": "3.10.9"
  }
 },
 "nbformat": 4,
 "nbformat_minor": 2
}
